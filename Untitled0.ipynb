{
  "nbformat": 4,
  "nbformat_minor": 0,
  "metadata": {
    "colab": {
      "provenance": [],
      "authorship_tag": "ABX9TyOXmACtAsLdv2E4usBRxoX3",
      "include_colab_link": true
    },
    "kernelspec": {
      "name": "python3",
      "display_name": "Python 3"
    },
    "language_info": {
      "name": "python"
    }
  },
  "cells": [
    {
      "cell_type": "markdown",
      "metadata": {
        "id": "view-in-github",
        "colab_type": "text"
      },
      "source": [
        "<a href=\"https://colab.research.google.com/github/guilherme09092007/Try-catch/blob/main/Untitled0.ipynb\" target=\"_parent\"><img src=\"https://colab.research.google.com/assets/colab-badge.svg\" alt=\"Open In Colab\"/></a>"
      ]
    },
    {
      "cell_type": "code",
      "execution_count": null,
      "metadata": {
        "colab": {
          "base_uri": "https://localhost:8080/"
        },
        "id": "F1GgWKp1WAKF",
        "outputId": "54bc31ab-3dab-4985-fab3-9df7ea0f8502"
      },
      "outputs": [
        {
          "output_type": "stream",
          "name": "stdout",
          "text": [
            "Seu nome é guilherme\n"
          ]
        }
      ],
      "source": [
        "    #print(\"Ola mundo \")\n",
        "idade = 17\n",
        "nome = \"guilherme\"\n",
        "print(\"Seu nome é\",nome)\n"
      ]
    },
    {
      "cell_type": "code",
      "source": [
        "salario = 3500\n",
        "desconto = 200\n",
        "salarioLiquido = salario - desconto\n",
        "print( \"Seu salario final é\",salarioLiquido)"
      ],
      "metadata": {
        "colab": {
          "base_uri": "https://localhost:8080/"
        },
        "id": "db4u3yXsZax_",
        "outputId": "8212d9a6-b40f-4f75-c6d9-b3fb3391124f"
      },
      "execution_count": null,
      "outputs": [
        {
          "output_type": "stream",
          "name": "stdout",
          "text": [
            "Seu salario final é 3300\n"
          ]
        }
      ]
    },
    {
      "cell_type": "code",
      "source": [
        "Login = input(\"Digite seu Login:\")\n",
        "Senha = input(\"digite sua Senha:\")"
      ],
      "metadata": {
        "colab": {
          "base_uri": "https://localhost:8080/"
        },
        "id": "5C7Bz01-a7Fn",
        "outputId": "a74288e2-47b5-4202-ca6c-38cb8ffd4c9e"
      },
      "execution_count": null,
      "outputs": [
        {
          "name": "stdout",
          "output_type": "stream",
          "text": [
            "Digite seu Login:guilherme \n",
            "digite sua Senha:000gui000\n"
          ]
        }
      ]
    },
    {
      "cell_type": "code",
      "source": [
        "Salario = int(input(\"Digite seu salario:\"))\n",
        "INSS = (Salario * 8)/100\n",
        "VT = (Salario * 6)/100\n",
        "Salariofinal = Salario - INSS - VT\n",
        "print (\"Seu salario final é:\", Salariofinal)"
      ],
      "metadata": {
        "colab": {
          "base_uri": "https://localhost:8080/"
        },
        "id": "8IFpAGzbcJQE",
        "outputId": "d2047ee2-ef7d-4050-8e3c-7de026650857"
      },
      "execution_count": null,
      "outputs": [
        {
          "output_type": "stream",
          "name": "stdout",
          "text": [
            "Digite seu salario:2500\n",
            "Seu salario final é: 2150.0\n"
          ]
        }
      ]
    },
    {
      "cell_type": "code",
      "source": [
        "idade = int(input(\"Informe sua idade:\"))\n",
        "if idade >= 18:\n",
        " print(\"maior de idade\",idade)\n",
        "else:\n",
        "  print(\"menor de idade\",idade)"
      ],
      "metadata": {
        "colab": {
          "base_uri": "https://localhost:8080/"
        },
        "id": "4Xos2x8viiQJ",
        "outputId": "b33cea8d-23b7-43ef-e081-b152ed8d7579"
      },
      "execution_count": null,
      "outputs": [
        {
          "output_type": "stream",
          "name": "stdout",
          "text": [
            "Informe sua idade:19\n",
            "maior de idade 19\n"
          ]
        }
      ]
    },
    {
      "cell_type": "code",
      "source": [
        "frase = \" O rato roeu a roupa do rei de roma\"\n",
        "print(frase.upper())\n",
        "print(frase.lower())\n",
        "resultado = frase.find(\"rei\")\n",
        "resultado2 = frase.split()\n",
        "print(resultado2)"
      ],
      "metadata": {
        "colab": {
          "base_uri": "https://localhost:8080/"
        },
        "id": "O1FxnwhylKv6",
        "outputId": "35b959c0-e51f-4cdb-a574-8af6eaae712b"
      },
      "execution_count": null,
      "outputs": [
        {
          "output_type": "stream",
          "name": "stdout",
          "text": [
            " O RATO ROEU A ROUPA DO REI DE ROMA\n",
            " o rato roeu a roupa do rei de roma\n",
            "['O', 'rato', 'roeu', 'a', 'roupa', 'do', 'rei', 'de', 'roma']\n"
          ]
        }
      ]
    },
    {
      "cell_type": "code",
      "source": [
        "frase = \" vitor esta lagarto da mina indo para o banheiro responder as mensagens dela \"\n",
        "print(frase.upper())\n",
        "print(frase.lower())\n",
        "resultado = frase.find(\"dela\")\n",
        "resultado2 = frase.split()\n",
        "print(resultado2)"
      ],
      "metadata": {
        "colab": {
          "base_uri": "https://localhost:8080/"
        },
        "id": "VIv529OunoSF",
        "outputId": "6a13f76a-1d2b-4492-f9d8-2843005577d2"
      },
      "execution_count": null,
      "outputs": [
        {
          "output_type": "stream",
          "name": "stdout",
          "text": [
            " VITOR ESTA LAGARTO DA MINA INDO PARA O BANHEIRO RESPONDER AS MENSAGENS DELA \n",
            " vitor esta lagarto da mina indo para o banheiro responder as mensagens dela \n",
            "['vitor', 'esta', 'lagarto', 'da', 'mina', 'indo', 'para', 'o', 'banheiro', 'responder', 'as', 'mensagens', 'dela']\n"
          ]
        }
      ]
    },
    {
      "cell_type": "code",
      "source": [
        "import matplotlib.pyplot as plt\n",
        "\n",
        "dias = ['seg', 'ter', 'qua', 'qui', 'sex', 'sab', 'dom']\n",
        "\n",
        "temperaturas = [22, 24, 23, 26, 25, 27, 26]\n",
        "\n",
        "plt.plot(dias, temperaturas, marker='o', color='blue', linestyle='-')\n",
        "\n",
        "plt.title('Variação da temperatura ao longo da Semana')\n",
        "plt.xlabel('Dia da semana')\n",
        "plt.xlabel('Temperatura(°C)')\n",
        "\n",
        "plt.show()"
      ],
      "metadata": {
        "colab": {
          "base_uri": "https://localhost:8080/",
          "height": 472
        },
        "id": "byKiz4nYptp1",
        "outputId": "2fb77e85-40bc-4e72-b7f7-599c1023c8eb"
      },
      "execution_count": null,
      "outputs": [
        {
          "output_type": "display_data",
          "data": {
            "text/plain": [
              "<Figure size 640x480 with 1 Axes>"
            ],
            "image/png": "[encoded data removed]"
          },
          "metadata": {}
        }
      ]
    },
    {
      "cell_type": "code",
      "source": [
        "import javax.swing.JOptionPane;\n",
        "\n",
        "public class UsuarioInfo {\n",
        "    public static void main(String[] args) {\n",
        "        String nome = JOptionPane.showInputDialog(\"Digite o seu nome:\");\n",
        "        String cpf = JOptionPane.showInputDialog(\"Digite o seu CPF:\");\n",
        "\n",
        "        String mensagem = \"Nome: \" + nome + \"\\nCPF: \" + cpf;\n",
        "        JOptionPane.showMessageDialog(null, mensagem, \"Informações do Usuário\", JOptionPane.INFORMATION_MESSAGE);\n",
        "    }\n",
        "}\n"
      ],
      "metadata": {
        "colab": {
          "base_uri": "https://localhost:8080/",
          "height": 106
        },
        "id": "KCloeX8nt5MT",
        "outputId": "75ba6341-3eb3-4938-a4a9-9dd8dec992b7"
      },
      "execution_count": null,
      "outputs": [
        {
          "output_type": "error",
          "ename": "SyntaxError",
          "evalue": "invalid syntax (<ipython-input-51-79d4c15aea11>, line 3)",
          "traceback": [
            "\u001b[0;36m  File \u001b[0;32m\"<ipython-input-51-79d4c15aea11>\"\u001b[0;36m, line \u001b[0;32m3\u001b[0m\n\u001b[0;31m    public class UsuarioInfo {\u001b[0m\n\u001b[0m           ^\u001b[0m\n\u001b[0;31mSyntaxError\u001b[0m\u001b[0;31m:\u001b[0m invalid syntax\n"
          ]
        }
      ]
    }
  ]
}